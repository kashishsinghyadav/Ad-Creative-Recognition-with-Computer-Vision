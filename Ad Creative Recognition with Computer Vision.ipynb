{
  "nbformat": 4,
  "nbformat_minor": 0,
  "metadata": {
    "colab": {
      "provenance": [],
      "authorship_tag": "ABX9TyNdaPdvHV94LFQwtlNmWRs0",
      "include_colab_link": true
    },
    "kernelspec": {
      "name": "python3",
      "display_name": "Python 3"
    },
    "language_info": {
      "name": "python"
    }
  },
  "cells": [
    {
      "cell_type": "markdown",
      "metadata": {
        "id": "view-in-github",
        "colab_type": "text"
      },
      "source": [
        "<a href=\"https://colab.research.google.com/github/kashishsinghyadav/Ad-Creative-Recognition-with-Computer-Vision/blob/main/Ad%20Creative%20Recognition%20with%20Computer%20Vision.ipynb\" target=\"_parent\"><img src=\"https://colab.research.google.com/assets/colab-badge.svg\" alt=\"Open In Colab\"/></a>"
      ]
    },
    {
      "cell_type": "code",
      "execution_count": null,
      "metadata": {
        "id": "Y5A4m5377m-Y"
      },
      "outputs": [],
      "source": [
        "import tensorflow as tf\n",
        "from keras import layers, models\n",
        "from keras.applications import VGG16\n",
        "from keras.preprocessing.image import ImageDataGenerator\n",
        "from keras.models import load_model\n",
        "import keras.utils as image\n",
        "import os\n",
        "import matplotlib.pyplot as plt\n",
        "import numpy as np\n"
      ]
    },
    {
      "cell_type": "code",
      "source": [
        "def create_augmented_images(input_directory, output_directory, augmentation_params, num_augmentations=5):\n",
        "\n",
        "    # Create an ImageDataGenerator with the specified augmentations\n",
        "    datagen = image.ImageDataGenerator(**augmentation_params)\n",
        "\n",
        "    # Get a list of all image files in the input directory\n",
        "    image_files = [f for f in os.listdir(input_directory) if os.path.isfile(os.path.join(input_directory, f))]\n",
        "\n",
        "    # Create the output directory if it doesn't exist\n",
        "    os.makedirs(output_directory, exist_ok=True)\n",
        "\n",
        "    # Loop through each image file\n",
        "    for _ in image_files:\n",
        "        img_path = os.path.join(input_directory, _)\n",
        "\n",
        "        # Load the image\n",
        "        img = image.load_img(img_path)\n",
        "        x = image.img_to_array(img)\n",
        "        x = np.expand_dims(x, axis=0)\n",
        "\n",
        "        # Generate augmented images\n",
        "        for i, _ in enumerate(datagen.flow(x, batch_size=1, save_to_dir=output_directory, save_prefix=f'aug_{i}', save_format='jpeg')):\n",
        "            if i >= num_augmentations:\n",
        "                break\n"
      ],
      "metadata": {
        "id": "lj3kjFHa7n2H"
      },
      "execution_count": 1,
      "outputs": []
    },
    {
      "cell_type": "code",
      "source": [
        "augmentation_params = {\n",
        "    'rotation_range': 40,\n",
        "    'width_shift_range': 0.2,\n",
        "    'height_shift_range': 0.2,\n",
        "    'zoom_range': 0.2,\n",
        "    'horizontal_flip': True,\n",
        "}\n"
      ],
      "metadata": {
        "id": "I_a5hiYb7n5T"
      },
      "execution_count": null,
      "outputs": []
    },
    {
      "cell_type": "code",
      "source": [
        "train_datagen = ImageDataGenerator(rescale=1./255)\n",
        "validation_datagen = ImageDataGenerator(rescale=1./255)\n",
        "\n",
        "train_generator = train_datagen.flow_from_directory('./Train/Train_aug',\n",
        "                                                    target_size=(200, 200),\n",
        "                                                    batch_size=32,\n",
        "                                                    class_mode='binary')\n",
        "\n",
        "validation_generator = validation_datagen.flow_from_directory('./Val/Val_aug',\n",
        "                                                              target_size=(200, 200),\n",
        "                                                              batch_size=32,\n",
        "                                                              class_mode='binary')\n"
      ],
      "metadata": {
        "id": "jFxQIDsd7n8V"
      },
      "execution_count": null,
      "outputs": []
    },
    {
      "cell_type": "code",
      "source": [
        "base_model = VGG16(weights='imagenet', include_top=False, input_shape=(200, 200, 3))\n",
        "\n",
        "\n",
        "for layer in base_model.layers:\n",
        "    layer.trainable = False\n",
        "\n",
        "\n",
        "model_0 = models.Sequential([\n",
        "    base_model,\n",
        "    layers.Flatten(name='flatten'),\n",
        "    layers.Dense(512, activation='relu', name='dense'),\n",
        "    layers.Dense(1, activation='sigmoid', name='dense_1')\n",
        "])\n",
        "\n",
        "# Compile the model\n",
        "model_0.compile(optimizer=tf.keras.optimizers.Adam(learning_rate=0.0001),\n",
        "              loss='binary_crossentropy',\n",
        "              metrics=['accuracy'])\n",
        "\n",
        "\n",
        "model_0.summary()\n"
      ],
      "metadata": {
        "id": "Yz0Ee8jA7n_P"
      },
      "execution_count": null,
      "outputs": []
    },
    {
      "cell_type": "code",
      "source": [
        "# Train the model\n",
        "history = model_0.fit(train_generator,\n",
        "                    epochs=20,\n",
        "                    validation_data=validation_generator)\n"
      ],
      "metadata": {
        "id": "z9TLetgH7oCl"
      },
      "execution_count": null,
      "outputs": []
    },
    {
      "cell_type": "code",
      "source": [
        "model_0.save('model_0.h5')\n",
        "# Load the trained model\n",
        "model_1 = load_model(\"model_0.h5\")\n"
      ],
      "metadata": {
        "id": "d6kAXNxi7oFx"
      },
      "execution_count": null,
      "outputs": []
    },
    {
      "cell_type": "code",
      "source": [
        "def classify_image(img_path):\n",
        "    img = image.load_img(img_path, target_size=(200, 200))\n",
        "    img_array = image.img_to_array(img)\n",
        "    img_array = img_array.reshape((1, 200, 200, 3))\n",
        "    img_array /= 255.0\n",
        "\n",
        "\n",
        "    prediction = model_1.predict(img_array)\n",
        "\n",
        "\n",
        "    confidence_score = prediction[0][0]\n",
        "\n",
        "\n",
        "    score = int(round(confidence_score))\n",
        "\n",
        "\n",
        "    classification = \"Ad creatives\" if  score == 0 else \"Non-Ad creatives\"\n",
        "\n",
        "    return score, classification\n"
      ],
      "metadata": {
        "id": "HjeZkG9s7ocl"
      },
      "execution_count": null,
      "outputs": []
    },
    {
      "cell_type": "code",
      "source": [
        "img_path = \"./henz_ketchup.png\"\n",
        "label, classification = classify_image(img_path)\n",
        "\n",
        "print(label)\n",
        "print(classification)\n"
      ],
      "metadata": {
        "id": "BXRXd9v28agO"
      },
      "execution_count": null,
      "outputs": []
    },
    {
      "cell_type": "code",
      "source": [],
      "metadata": {
        "id": "IzgBBMEe8ajL"
      },
      "execution_count": null,
      "outputs": []
    },
    {
      "cell_type": "code",
      "source": [],
      "metadata": {
        "id": "1XmFmyqV8alr"
      },
      "execution_count": null,
      "outputs": []
    },
    {
      "cell_type": "code",
      "source": [],
      "metadata": {
        "id": "lvnDWuFH8apg"
      },
      "execution_count": null,
      "outputs": []
    },
    {
      "cell_type": "code",
      "source": [],
      "metadata": {
        "id": "SMYu1xjq7ogF"
      },
      "execution_count": null,
      "outputs": []
    }
  ]
}